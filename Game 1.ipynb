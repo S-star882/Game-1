{
 "cells": [
  {
   "cell_type": "code",
   "execution_count": 6,
   "metadata": {},
   "outputs": [
    {
     "name": "stdout",
     "output_type": "stream",
     "text": [
      "Welcome to my first game!\n",
      "What is your name? Lana\n",
      "What is your age? 29\n",
      "Hello Lana you are 29 years old.\n",
      "You are old enough to play! \n",
      "Do you want to play?yes\n",
      "You are starting with 15 health\n",
      "Let's play!\n",
      "First choise... Left or Right(left/right)? left\n",
      "Nice, you follow the path and reach a lake... Do you swim across or go around (across/around)? around\n",
      "You went around and reached the other side of the lake.\n",
      "You notice a house and a river. Which do you go to (river/house)? house\n",
      "You go to the house and are greted by the owner... He doesn't like you and you lose 5 health.\n",
      "You have survived... You win!\n"
     ]
    }
   ],
   "source": [
    "print(\"Welcome to my first game!\")\n",
    "\n",
    "name = input(\"What is your name? \")\n",
    "age = int(input(\"What is your age? \"))\n",
    "\n",
    "print(\"Hello\", name, \"you are\", age, \"years old.\")\n",
    "\n",
    "health = 15\n",
    "\n",
    "\n",
    "#is_older = age >= 18\n",
    "#print(is_older)\n",
    "\n",
    "if age >= 18:\n",
    "    print(\"You are old enough to play! \")\n",
    "\n",
    "#elif age >= 14:\n",
    "#    print(\"You can play with supervision\")\n",
    "    \n",
    "#    weapon = input(\"Pick a weapon (sword/baton/laser):\")\n",
    "#    if weapon == \"sword\":\n",
    "#        print(\"Good choise... You can protect yourself from fish.\")\n",
    "#    else:\n",
    "#        print(\"Nice choise... You can protect yourself from animals.\")\n",
    "\n",
    "    \n",
    "    \n",
    "    wants_to_play = input(\"Do you want to play?\").lower()\n",
    "    if wants_to_play == \"yes\":\n",
    "        print(\"You are starting with\", health, \"health\")\n",
    "        print(\"Let's play!\")\n",
    "        \n",
    "        left_or_right = input(\"First choise... Left or Right(left/right)? \")\n",
    "        if left_or_right == \"left\":\n",
    "            ans = input(\"Nice, you follow the path and reach a lake... Do you swim across or go around (across/around)? \")\n",
    "            \n",
    "            if ans == \"around\":\n",
    "                print(\"You went around and reached the other side of the lake.\")\n",
    "            elif ans == \"across\":\n",
    "                print(\"You managed to grt across, but were bit by a fish and lost 5 health.\")\n",
    "                health -= 5\n",
    "                \n",
    "            ans = input(\"You notice a house and a river. Which do you go to (river/house)? \")\n",
    "            if ans == \"house\":\n",
    "                print(\"You go to the house and are greted by the owner... He doesn't like you and you lose 5 health.\")\n",
    "                health -= 5\n",
    "                \n",
    "                if health <= 0:\n",
    "                    print(\"You now have 0 health and you lost the game...\")\n",
    "                else:\n",
    "                    print(\"You have survived... You win!\")\n",
    "            else:\n",
    "                print(\"You fell in the river and lost...\")\n",
    "                \n",
    "        else:\n",
    "            print(\"You fell down and lost...\")\n",
    "    \n",
    "    else:\n",
    "        print(\"See you later.\")\n",
    "        \n",
    "    \n",
    "else:\n",
    "    print(\"You are not old enough to play...\")\n",
    "\n"
   ]
  },
  {
   "cell_type": "code",
   "execution_count": null,
   "metadata": {},
   "outputs": [],
   "source": []
  }
 ],
 "metadata": {
  "kernelspec": {
   "display_name": "Python 3",
   "language": "python",
   "name": "python3"
  },
  "language_info": {
   "codemirror_mode": {
    "name": "ipython",
    "version": 3
   },
   "file_extension": ".py",
   "mimetype": "text/x-python",
   "name": "python",
   "nbconvert_exporter": "python",
   "pygments_lexer": "ipython3",
   "version": "3.7.6"
  }
 },
 "nbformat": 4,
 "nbformat_minor": 4
}
